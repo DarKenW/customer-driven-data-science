{
  "nbformat": 4,
  "nbformat_minor": 0,
  "metadata": {
    "kernelspec": {
      "display_name": "Python 3",
      "language": "python",
      "name": "python3"
    },
    "language_info": {
      "codemirror_mode": {
        "name": "ipython",
        "version": 3
      },
      "file_extension": ".py",
      "mimetype": "text/x-python",
      "name": "python",
      "nbconvert_exporter": "python",
      "pygments_lexer": "ipython3",
      "version": "3.7.3"
    },
    "colab": {
      "name": "Customer Analytics Purchase Analytics -- Conversion Analysis.ipynb",
      "provenance": [],
      "toc_visible": true,
      "include_colab_link": true
    }
  },
  "cells": [
    {
      "cell_type": "markdown",
      "metadata": {
        "id": "view-in-github",
        "colab_type": "text"
      },
      "source": [
        "<a href=\"https://colab.research.google.com/github/DarKenW/customer-driven-data-science/blob/main/Customer_Analytics_Purchase_Analytics_Conversion_Analysis.ipynb\" target=\"_parent\"><img src=\"https://colab.research.google.com/assets/colab-badge.svg\" alt=\"Open In Colab\"/></a>"
      ]
    },
    {
      "cell_type": "markdown",
      "metadata": {
        "id": "rbdtMvcgDqZz"
      },
      "source": [
        "# Audiobooks business converison prediction case\r\n",
        "\r\n",
        "This project is a returning lead scoring/conversion prediction project.    \r\n",
        "We need to predict which customers are most likely to **buy the audiobook again** and we should put more marketing resources on this group of customers. \r\n",
        "\r\n",
        "**We also will try to find most important metrics for conversion**.\r\n",
        "\r\n",
        "Engagement column names:\r\n",
        "- book length\r\n",
        "- avg. book length (total book length / number of purchase)\r\n",
        "- price overall\r\n",
        "- price avg\r\n",
        "- review\r\n",
        "- review (10/10)\r\n",
        "- minute listened\r\n",
        "- completion\r\n",
        "- support requests (from password forgotten to assistance on using the platform)\r\n",
        "- last visited minus purchase date\r\n",
        "- target\r\n",
        "\r\n",
        "**Conversion** definition: input data represents 2 year worth of engagement and targets are 6 month of data to check conversion (buy another book or not)."
      ]
    },
    {
      "cell_type": "markdown",
      "metadata": {
        "id": "ZGvXcxb0DqZ1"
      },
      "source": [
        "## Preprocess the data. Balance the dataset. Standardize the data. \n",
        "\n",
        "Create 3 datasets: training, validation, and test. Save the newly created sets in a tensor friendly format (e.g. *.npz)\n",
        "\n",
        "Since we are dealing with real life data, we will need to preprocess it a bit.\n",
        "\n",
        "If you want to know how to do that, go through the code with comments. In any case, this should do the trick for most datasets organized in the way: many inputs, and then 1 cell containing the targets (supersized learning datasets). Keep in mind that a specific problem may require additional preprocessing.\n",
        "\n",
        "Note that we have removed the header row, which contains the names of the categories. We simply need the numerical data."
      ]
    },
    {
      "cell_type": "markdown",
      "metadata": {
        "id": "S3bAnNMgDqZ1"
      },
      "source": [
        "### Extract the data from the csv"
      ]
    },
    {
      "cell_type": "code",
      "metadata": {
        "colab": {
          "base_uri": "https://localhost:8080/"
        },
        "id": "xo_uSHayDqZ2",
        "outputId": "3bc3b836-f942-446f-d8ba-436df865a339"
      },
      "source": [
        "import numpy as np\n",
        "\n",
        "# We will use the StandardScaler module, so we can later deploy the model\n",
        "from sklearn.preprocessing import StandardScaler\n",
        "\n",
        "import pickle\n",
        "\n",
        "# df_purchase = pd.read_csv('purchase data.csv')\n",
        "\n",
        "from google.colab import drive\n",
        "drive.mount('/content/drive')\n",
        "\n",
        "# Load the data, contained in the segmentation data csv file.\n",
        "GD_PATH = '/content/drive/MyDrive/扬FAANG起航/单项准备/customer analytics/'\n",
        "#df_purchase = pd.read_csv(GD_PATH+'Audiobooks_data.csv', index_col = 0)\n",
        "\n",
        "# Load the data\n",
        "raw_csv_data = np.loadtxt(GD_PATH+'Audiobooks_data.csv',delimiter=',')\n",
        "\n",
        "# The inputs are all columns in the csv, except for the first one and the last one\n",
        "# The first column is the arbitrary ID, while the last contains the targets\n",
        "\n",
        "unscaled_inputs_all = raw_csv_data[:,1:-1]\n",
        "\n",
        "# The targets are in the last column. That's how datasets are conventionally organized.\n",
        "targets_all = raw_csv_data[:,-1]"
      ],
      "execution_count": 29,
      "outputs": [
        {
          "output_type": "stream",
          "text": [
            "Drive already mounted at /content/drive; to attempt to forcibly remount, call drive.mount(\"/content/drive\", force_remount=True).\n"
          ],
          "name": "stdout"
        }
      ]
    },
    {
      "cell_type": "code",
      "metadata": {
        "colab": {
          "base_uri": "https://localhost:8080/"
        },
        "id": "7cEeHsLeEXyk",
        "outputId": "7d3aff7f-7d6d-4135-94ef-3fee5dcd7315"
      },
      "source": [
        "raw_csv_data"
      ],
      "execution_count": 30,
      "outputs": [
        {
          "output_type": "execute_result",
          "data": {
            "text/plain": [
              "array([[8.7300e+02, 2.1600e+03, 2.1600e+03, ..., 0.0000e+00, 0.0000e+00,\n",
              "        1.0000e+00],\n",
              "       [6.1100e+02, 1.4040e+03, 2.8080e+03, ..., 0.0000e+00, 1.8200e+02,\n",
              "        1.0000e+00],\n",
              "       [7.0500e+02, 3.2400e+02, 3.2400e+02, ..., 1.0000e+00, 3.3400e+02,\n",
              "        1.0000e+00],\n",
              "       ...,\n",
              "       [2.8671e+04, 1.0800e+03, 1.0800e+03, ..., 0.0000e+00, 2.9000e+01,\n",
              "        0.0000e+00],\n",
              "       [3.1134e+04, 2.1600e+03, 2.1600e+03, ..., 0.0000e+00, 0.0000e+00,\n",
              "        0.0000e+00],\n",
              "       [3.2832e+04, 1.6200e+03, 1.6200e+03, ..., 0.0000e+00, 9.0000e+01,\n",
              "        0.0000e+00]])"
            ]
          },
          "metadata": {
            "tags": []
          },
          "execution_count": 30
        }
      ]
    },
    {
      "cell_type": "code",
      "metadata": {
        "colab": {
          "base_uri": "https://localhost:8080/"
        },
        "id": "ouKCZ_YtFd2J",
        "outputId": "8454bfb1-d784-4993-e696-4f28d6e3564a"
      },
      "source": [
        "raw_csv_data.shape"
      ],
      "execution_count": 31,
      "outputs": [
        {
          "output_type": "execute_result",
          "data": {
            "text/plain": [
              "(14084, 12)"
            ]
          },
          "metadata": {
            "tags": []
          },
          "execution_count": 31
        }
      ]
    },
    {
      "cell_type": "markdown",
      "metadata": {
        "id": "GGVX_rOHDqZ2"
      },
      "source": [
        "### Balance the dataset\r\n",
        "\r\n",
        "We need to creat balanced dataset that has equal number of 0 and 1 in target column"
      ]
    },
    {
      "cell_type": "code",
      "metadata": {
        "id": "lcwyxvwUDqZ2"
      },
      "source": [
        "# There are different Python packages that could be used for balancing\n",
        "# Here we approach the problem manually, so you can observe the inner workings of the balancing process\n",
        "\n",
        "# Count how many targets are 1 (meaning that the customer did convert)\n",
        "num_one_targets = int(np.sum(targets_all))\n",
        "\n",
        "# Set a counter for targets that are 0 (meaning that the customer did not convert)\n",
        "zero_targets_counter = 0\n",
        "\n",
        "# We want to create a \"balanced\" dataset, so we will have to remove some input/target pairs.\n",
        "# Declare a variable that will do that:\n",
        "indices_to_remove = []\n",
        "\n",
        "# Count the number of targets that are 0. \n",
        "# Once there are as many 0s as 1s, mark entries where the target is 0.\n",
        "for i in range(targets_all.shape[0]):\n",
        "    if targets_all[i] == 0:\n",
        "        zero_targets_counter += 1\n",
        "        if zero_targets_counter > num_one_targets:\n",
        "            indices_to_remove.append(i)\n",
        "\n",
        "# Create two new variables, one that will contain the inputs, and one that will contain the targets.\n",
        "# We delete all indices that we marked \"to remove\" in the loop above.\n",
        "unscaled_inputs_equal_priors = np.delete(unscaled_inputs_all, indices_to_remove, axis=0)\n",
        "targets_equal_priors = np.delete(targets_all, indices_to_remove, axis=0)"
      ],
      "execution_count": 32,
      "outputs": []
    },
    {
      "cell_type": "markdown",
      "metadata": {
        "id": "ahon6rRVDqZ3"
      },
      "source": [
        "### Standardize the inputs"
      ]
    },
    {
      "cell_type": "code",
      "metadata": {
        "id": "nGLNPGLxDqZ3"
      },
      "source": [
        "# Crete a standar scaler object\n",
        "scaler_deep_learning = StandardScaler()\n",
        "# Fit and transform the original data\n",
        "# Essentially, we calculate and STORE the mean and variance of the data in the scaler object\n",
        "# At the same time we standrdize the data using this information\n",
        "# Note that the mean and variance remain recorded in the scaler object\n",
        "scaled_inputs = scaler_deep_learning.fit_transform(unscaled_inputs_equal_priors)"
      ],
      "execution_count": 33,
      "outputs": []
    },
    {
      "cell_type": "markdown",
      "metadata": {
        "id": "iVZd9JwLDqZ3"
      },
      "source": [
        "### Shuffle the data"
      ]
    },
    {
      "cell_type": "code",
      "metadata": {
        "id": "MlbHsvAYDqZ4"
      },
      "source": [
        "# When the data was collected it was actually arranged by date\n",
        "# Shuffle the indices of the data, so the data is not arranged in any way when we feed it.\n",
        "# Since we will be batching, we want the data to be as randomly spread out as possible\n",
        "shuffled_indices = np.arange(scaled_inputs.shape[0])\n",
        "np.random.shuffle(shuffled_indices)\n",
        "\n",
        "# Use the shuffled indices to shuffle the inputs and targets.\n",
        "shuffled_inputs = scaled_inputs[shuffled_indices]\n",
        "shuffled_targets = targets_equal_priors[shuffled_indices]"
      ],
      "execution_count": 34,
      "outputs": []
    },
    {
      "cell_type": "markdown",
      "metadata": {
        "id": "NJnEEJCfDqZ4"
      },
      "source": [
        "### Split the dataset into train, validation, and test"
      ]
    },
    {
      "cell_type": "code",
      "metadata": {
        "colab": {
          "base_uri": "https://localhost:8080/"
        },
        "id": "FKECFWoXDqZ4",
        "outputId": "29733797-ea03-4bca-e9a2-9278a10afe55"
      },
      "source": [
        "# Count the total number of samples\n",
        "samples_count = shuffled_inputs.shape[0]\n",
        "\n",
        "# Count the samples in each subset, assuming we want 80-10-10 distribution of training, validation, and test.\n",
        "# Naturally, the numbers are integers.\n",
        "train_samples_count = int(0.8 * samples_count)\n",
        "validation_samples_count = int(0.1 * samples_count)\n",
        "\n",
        "# The 'test' dataset contains all remaining data.\n",
        "test_samples_count = samples_count - train_samples_count - validation_samples_count\n",
        "\n",
        "# Create variables that record the inputs and targets for training\n",
        "# In our shuffled dataset, they are the first \"train_samples_count\" observations\n",
        "train_inputs = shuffled_inputs[:train_samples_count]\n",
        "train_targets = shuffled_targets[:train_samples_count]\n",
        "\n",
        "# Create variables that record the inputs and targets for validation.\n",
        "# They are the next \"validation_samples_count\" observations, folllowing the \"train_samples_count\" we already assigned\n",
        "validation_inputs = shuffled_inputs[train_samples_count:train_samples_count+validation_samples_count]\n",
        "validation_targets = shuffled_targets[train_samples_count:train_samples_count+validation_samples_count]\n",
        "\n",
        "# Create variables that record the inputs and targets for test.\n",
        "# They are everything that is remaining.\n",
        "test_inputs = shuffled_inputs[train_samples_count+validation_samples_count:]\n",
        "test_targets = shuffled_targets[train_samples_count+validation_samples_count:]\n",
        "\n",
        "# We balanced our dataset to be 50-50 (for targets 0 and 1), but the training, validation, and test were \n",
        "# taken from a shuffled dataset. Check if they are balanced, too. Note that each time you rerun this code, \n",
        "# you will get different values, as each time they are shuffled randomly.\n",
        "# Normally you preprocess ONCE, so you need not rerun this code once it is done.\n",
        "# If you rerun this whole sheet, the npzs will be overwritten with your newly preprocessed data.\n",
        "\n",
        "# Print the number of targets that are 1s, the total number of samples, and the proportion for training, validation, and test.\n",
        "print(np.sum(train_targets), train_samples_count, np.sum(train_targets) / train_samples_count)\n",
        "print(np.sum(validation_targets), validation_samples_count, np.sum(validation_targets) / validation_samples_count)\n",
        "print(np.sum(test_targets), test_samples_count, np.sum(test_targets) / test_samples_count)"
      ],
      "execution_count": 35,
      "outputs": [
        {
          "output_type": "stream",
          "text": [
            "1792.0 3579 0.5006985191394244\n",
            "224.0 447 0.5011185682326622\n",
            "221.0 448 0.49330357142857145\n"
          ],
          "name": "stdout"
        }
      ]
    },
    {
      "cell_type": "markdown",
      "metadata": {
        "id": "0vY5aCA7DqZ5"
      },
      "source": [
        "### Save the three datasets in *.npz"
      ]
    },
    {
      "cell_type": "code",
      "metadata": {
        "id": "HaMaE4u9DqZ5"
      },
      "source": [
        "# Save the three datasets in *.npz.\n",
        "# In the next lesson, you will see that it is extremely valuable to name them in such a coherent way!\n",
        "\n",
        "np.savez('Audiobooks_data_train', inputs=train_inputs, targets=train_targets)\n",
        "np.savez('Audiobooks_data_validation', inputs=validation_inputs, targets=validation_targets)\n",
        "np.savez('Audiobooks_data_test', inputs=test_inputs, targets=test_targets)"
      ],
      "execution_count": 36,
      "outputs": []
    },
    {
      "cell_type": "markdown",
      "metadata": {
        "id": "-lANWK43DqZ6"
      },
      "source": [
        "### Save the scaler"
      ]
    },
    {
      "cell_type": "code",
      "metadata": {
        "id": "kjgWGHRpDqZ6"
      },
      "source": [
        "# Similar to how we have saved the scaler files before, we also save this scaler, so we can apply in on new data\n",
        "pickle.dump(scaler_deep_learning, open('scaler_deep_learning.pickle', 'wb'))"
      ],
      "execution_count": 37,
      "outputs": []
    },
    {
      "cell_type": "markdown",
      "metadata": {
        "id": "AwIXih9OPh0x"
      },
      "source": [
        "## Problem\r\n",
        "\r\n",
        "You are given data from an Audiobook app. Logically, it relates only to the audio versions of books. Each customer in the database has made a purchase at least once, that's why he/she is in the database. We want to create a machine learning algorithm based on our available data that can predict if a customer will buy again from the Audiobook company.\r\n",
        "\r\n",
        "The main idea is that if a customer has a low probability of coming back, there is no reason to spend any money on advertizing to him/her. If we can focus our efforts ONLY on customers that are likely to convert again, we can make great savings. Moreover, this model can identify the most important metrics for a customer to come back again. Identifying new customers creates value and growth opportunities.\r\n",
        "\r\n",
        "You have a .csv summarizing the data. There are several variables: Customer ID, Book length in mins_avg (average of all purchases), Book length in minutes_sum (sum of all purchases), Price Paid_avg (average of all purchases), Price paid_sum (sum of all purchases), Review (a Boolean variable), Review (out of 10), Total minutes listened, Completion (from 0 to 1), Support requests (number), and Last visited minus purchase date (in days).\r\n",
        "\r\n",
        "So these are the inputs (excluding customer ID, as it is completely arbitrary. It's more like a name, than a number).\r\n",
        "\r\n",
        "The targets are a Boolean variable (so 0, or 1). We are taking a period of 2 years in our inputs, and the next 6 months as targets. So, in fact, we are predicting if: based on the last 2 years of activity and engagement, a customer will convert in the next 6 months. 6 months sounds like a reasonable time. If they don't convert after 6 months, chances are they've gone to a competitor or didn't like the Audiobook way of digesting information. \r\n",
        "\r\n",
        "The task is simple: create a machine learning algorithm, which is able to predict if a customer will buy again. \r\n",
        "\r\n",
        "This is a classification problem with two classes: won't buy and will buy, represented by 0s and 1s. \r\n",
        "\r\n",
        "Good luck!"
      ]
    },
    {
      "cell_type": "markdown",
      "metadata": {
        "id": "glMsKAYrPj-G"
      },
      "source": [
        "# Modeling Part\r\n",
        "\r\n",
        "## Create the machine learning algorithm\r\n",
        "\r\n",
        "### Import the relevant libraries"
      ]
    },
    {
      "cell_type": "code",
      "metadata": {
        "id": "sCE1DonjPmmA"
      },
      "source": [
        "# we must import the libraries once again since we haven't imported them in this file\r\n",
        "import numpy as np\r\n",
        "import tensorflow as tf\r\n",
        "import pandas as pd"
      ],
      "execution_count": 38,
      "outputs": []
    },
    {
      "cell_type": "markdown",
      "metadata": {
        "id": "YDXFSOWpPzhU"
      },
      "source": [
        "### Data"
      ]
    },
    {
      "cell_type": "code",
      "metadata": {
        "id": "SyploLJsPmjM"
      },
      "source": [
        "# let's create a temporary variable npz, where we will store each of the three Audiobooks datasets\r\n",
        "#npz = np.load(GD_PATH+'Audiobooks_data_train.npz')\r\n",
        "npz = np.load('Audiobooks_data_train.npz')\r\n",
        "# we extract the inputs using the keyword under which we saved them\r\n",
        "# to ensure that they are all floats, let's also take care of that\r\n",
        "train_inputs = npz['inputs'].astype(np.float)\r\n",
        "# targets must be int because of sparse_categorical_crossentropy (we want to be able to smoothly one-hot encode them)\r\n",
        "train_targets = npz['targets'].astype(np.int)\r\n",
        "\r\n",
        "# we load the validation data in the temporary variable\r\n",
        "npz = np.load('Audiobooks_data_validation.npz')\r\n",
        "# we can load the inputs and the targets in the same line\r\n",
        "validation_inputs, validation_targets = npz['inputs'].astype(np.float), npz['targets'].astype(np.int)\r\n",
        "\r\n",
        "# we load the test data in the temporary variable\r\n",
        "npz = np.load('Audiobooks_data_test.npz')\r\n",
        "# we create 2 variables that will contain the test inputs and the test targets\r\n",
        "test_inputs, test_targets = npz['inputs'].astype(np.float), npz['targets'].astype(np.int)"
      ],
      "execution_count": 39,
      "outputs": []
    },
    {
      "cell_type": "markdown",
      "metadata": {
        "id": "bUoAZPsMQGkb"
      },
      "source": [
        "### Model\r\n",
        "Outline, optimizers, loss, early stopping and training"
      ]
    },
    {
      "cell_type": "code",
      "metadata": {
        "colab": {
          "base_uri": "https://localhost:8080/"
        },
        "id": "v30_7livPmgj",
        "outputId": "e0a74e69-b746-47e6-8019-4e634da416ec"
      },
      "source": [
        "# Optionally set the input size. We won't be using it, but in some cases it is beneficial\r\n",
        "# input_size = 10\r\n",
        "# Set the output size\r\n",
        "output_size = 2\r\n",
        "# Use same hidden layer size for both hidden layers. Not a necessity.\r\n",
        "hidden_layer_size = 50\r\n",
        "    \r\n",
        "# define how the model will look like\r\n",
        "model = tf.keras.Sequential([\r\n",
        "    # tf.keras.layers.Dense is basically implementing: output = activation(dot(input, weight) + bias)\r\n",
        "    # it takes several arguments, but the most important ones for us are the hidden_layer_size and the activation function\r\n",
        "    tf.keras.layers.Dense(hidden_layer_size, activation='relu'), # 1st hidden layer\r\n",
        "    tf.keras.layers.Dense(hidden_layer_size, activation='relu'), # 2nd hidden layer\r\n",
        "    # the final layer is no different, we just make sure to activate it with softmax\r\n",
        "    tf.keras.layers.Dense(output_size, activation='softmax') # output layer\r\n",
        "])\r\n",
        "\r\n",
        "\r\n",
        "### Choose the optimizer and the loss function\r\n",
        "\r\n",
        "# we define the optimizer we'd like to use, \r\n",
        "# the loss function, \r\n",
        "# and the metrics we are interested in obtaining at each iteration\r\n",
        "model.compile(optimizer='adam', loss='sparse_categorical_crossentropy', metrics=['accuracy'])\r\n",
        "\r\n",
        "### Training\r\n",
        "# That's where we train the model we have built.\r\n",
        "\r\n",
        "# set the batch size\r\n",
        "batch_size = 100\r\n",
        "\r\n",
        "# set a maximum number of training epochs\r\n",
        "max_epochs = 100\r\n",
        "\r\n",
        "# set an early stopping mechanism\r\n",
        "# let's set patience=2, to be a bit tolerant against random validation loss increases\r\n",
        "early_stopping = tf.keras.callbacks.EarlyStopping(patience=2)\r\n",
        "\r\n",
        "# fit the model\r\n",
        "# note that this time the train, validation and test data are not iterable\r\n",
        "model.fit(train_inputs, # train inputs\r\n",
        "          train_targets, # train targets\r\n",
        "          batch_size=batch_size, # batch size\r\n",
        "          epochs=max_epochs, # epochs that we will train for (assuming early stopping doesn't kick in)\r\n",
        "          # callbacks are functions called by a task when a task is completed\r\n",
        "          # task here is to check if val_loss is increasing\r\n",
        "          callbacks=[early_stopping], # early stopping\r\n",
        "          validation_data=(validation_inputs, validation_targets), # validation data\r\n",
        "          verbose = 2 # making sure we get enough information about the training process\r\n",
        "          )  "
      ],
      "execution_count": 40,
      "outputs": [
        {
          "output_type": "stream",
          "text": [
            "Epoch 1/100\n",
            "36/36 - 1s - loss: 0.5023 - accuracy: 0.8030 - val_loss: 0.3784 - val_accuracy: 0.8814\n",
            "Epoch 2/100\n",
            "36/36 - 0s - loss: 0.3515 - accuracy: 0.8718 - val_loss: 0.3063 - val_accuracy: 0.8904\n",
            "Epoch 3/100\n",
            "36/36 - 0s - loss: 0.3199 - accuracy: 0.8793 - val_loss: 0.2853 - val_accuracy: 0.8949\n",
            "Epoch 4/100\n",
            "36/36 - 0s - loss: 0.3035 - accuracy: 0.8843 - val_loss: 0.2682 - val_accuracy: 0.9083\n",
            "Epoch 5/100\n",
            "36/36 - 0s - loss: 0.2891 - accuracy: 0.8868 - val_loss: 0.2563 - val_accuracy: 0.9195\n",
            "Epoch 6/100\n",
            "36/36 - 0s - loss: 0.2790 - accuracy: 0.8910 - val_loss: 0.2484 - val_accuracy: 0.9239\n",
            "Epoch 7/100\n",
            "36/36 - 0s - loss: 0.2726 - accuracy: 0.8949 - val_loss: 0.2488 - val_accuracy: 0.9195\n",
            "Epoch 8/100\n",
            "36/36 - 0s - loss: 0.2660 - accuracy: 0.8969 - val_loss: 0.2413 - val_accuracy: 0.9239\n",
            "Epoch 9/100\n",
            "36/36 - 0s - loss: 0.2614 - accuracy: 0.8977 - val_loss: 0.2465 - val_accuracy: 0.9195\n",
            "Epoch 10/100\n",
            "36/36 - 0s - loss: 0.2567 - accuracy: 0.9011 - val_loss: 0.2415 - val_accuracy: 0.9239\n"
          ],
          "name": "stdout"
        },
        {
          "output_type": "execute_result",
          "data": {
            "text/plain": [
              "<tensorflow.python.keras.callbacks.History at 0x7f2c25145a50>"
            ]
          },
          "metadata": {
            "tags": []
          },
          "execution_count": 40
        }
      ]
    },
    {
      "cell_type": "markdown",
      "metadata": {
        "id": "VDHBdPRDQLPp"
      },
      "source": [
        "## Test the model\r\n",
        "\r\n",
        "As we discussed in the lectures, after training on the training data and validating on the validation data, we test the final prediction power of our model by running it on the test dataset that the algorithm has NEVER seen before.\r\n",
        "\r\n",
        "It is very important to realize that fiddling with the hyperparameters overfits the validation dataset. \r\n",
        "\r\n",
        "The test is the absolute final instance. You should not test before you are completely done with adjusting your model.\r\n",
        "\r\n",
        "If you adjust your model after testing, you will start overfitting the test dataset, which will defeat its purpose."
      ]
    },
    {
      "cell_type": "code",
      "metadata": {
        "colab": {
          "base_uri": "https://localhost:8080/"
        },
        "id": "igWKjs1pPmeF",
        "outputId": "2a3d5f65-fc93-45ce-ae34-e2b73ff2ca17"
      },
      "source": [
        "# declare two variables that are going to contain the two outputs from the evaluate function\r\n",
        "# they are the loss (which is there by default) and whatever was specified in the 'metrics' argument when fitting the model\r\n",
        "test_loss, test_accuracy = model.evaluate(test_inputs, test_targets)"
      ],
      "execution_count": 41,
      "outputs": [
        {
          "output_type": "stream",
          "text": [
            "14/14 [==============================] - 0s 1ms/step - loss: 0.2409 - accuracy: 0.9196\n"
          ],
          "name": "stdout"
        }
      ]
    },
    {
      "cell_type": "code",
      "metadata": {
        "colab": {
          "base_uri": "https://localhost:8080/"
        },
        "id": "hQsPYPv9PmbO",
        "outputId": "4510f874-151e-4a35-d133-fb17ce573c65"
      },
      "source": [
        "# Print the result in neatly formatted\r\n",
        "print('\\nTest loss: {0:.2f}. Test accuracy: {1:.2f}%'.format(test_loss, test_accuracy*100.))"
      ],
      "execution_count": 42,
      "outputs": [
        {
          "output_type": "stream",
          "text": [
            "\n",
            "Test loss: 0.24. Test accuracy: 91.96%\n"
          ],
          "name": "stdout"
        }
      ]
    },
    {
      "cell_type": "markdown",
      "metadata": {
        "id": "ZpuUxdWFQQ2N"
      },
      "source": [
        "## Obtain the probability for a customer to convert"
      ]
    },
    {
      "cell_type": "code",
      "metadata": {
        "colab": {
          "base_uri": "https://localhost:8080/"
        },
        "id": "qCHC0BUiPmYh",
        "outputId": "0d09f15c-13e5-4084-8fa9-401fb92b6731"
      },
      "source": [
        "# We can predict the probability of each class using the 'predict' method\r\n",
        "# The output comes in a scientific format\r\n",
        "# Please uncomment the round() method to achive a rounded result (not scientific notation)\r\n",
        "model.predict(test_inputs)#.round(2)"
      ],
      "execution_count": 43,
      "outputs": [
        {
          "output_type": "execute_result",
          "data": {
            "text/plain": [
              "array([[2.31893107e-01, 7.68106878e-01],\n",
              "       [6.47473708e-02, 9.35252607e-01],\n",
              "       [9.59721744e-01, 4.02782559e-02],\n",
              "       [1.19577512e-01, 8.80422473e-01],\n",
              "       [9.78049815e-01, 2.19501350e-02],\n",
              "       [1.27077103e-01, 8.72922838e-01],\n",
              "       [8.66629899e-01, 1.33370161e-01],\n",
              "       [1.36372223e-01, 8.63627732e-01],\n",
              "       [2.91843973e-02, 9.70815599e-01],\n",
              "       [1.35610346e-03, 9.98643935e-01],\n",
              "       [2.03454107e-01, 7.96545863e-01],\n",
              "       [3.18770222e-02, 9.68122900e-01],\n",
              "       [4.20554839e-02, 9.57944512e-01],\n",
              "       [2.21621349e-01, 7.78378665e-01],\n",
              "       [2.23597899e-01, 7.76402056e-01],\n",
              "       [8.72267783e-01, 1.27732188e-01],\n",
              "       [3.28227013e-01, 6.71773016e-01],\n",
              "       [3.32203950e-03, 9.96677995e-01],\n",
              "       [9.73245144e-01, 2.67548636e-02],\n",
              "       [1.28982723e-01, 8.71017277e-01],\n",
              "       [3.50202143e-01, 6.49797857e-01],\n",
              "       [8.14149797e-01, 1.85850203e-01],\n",
              "       [1.04413601e-02, 9.89558578e-01],\n",
              "       [7.81930536e-02, 9.21806931e-01],\n",
              "       [3.00830550e-04, 9.99699235e-01],\n",
              "       [6.72178189e-08, 9.99999881e-01],\n",
              "       [6.18586375e-04, 9.99381423e-01],\n",
              "       [1.00000000e+00, 2.35023840e-08],\n",
              "       [1.00000000e+00, 2.28729724e-09],\n",
              "       [9.99988914e-01, 1.10326091e-05],\n",
              "       [1.05404869e-01, 8.94595146e-01],\n",
              "       [1.66016221e-01, 8.33983719e-01],\n",
              "       [9.32964265e-01, 6.70357049e-02],\n",
              "       [6.36030138e-02, 9.36397016e-01],\n",
              "       [3.60475481e-01, 6.39524460e-01],\n",
              "       [8.78890693e-01, 1.21109314e-01],\n",
              "       [9.75930989e-01, 2.40690392e-02],\n",
              "       [9.72526848e-01, 2.74731237e-02],\n",
              "       [9.75845158e-01, 2.41548847e-02],\n",
              "       [9.99822199e-01, 1.77871116e-04],\n",
              "       [9.74296391e-01, 2.57035848e-02],\n",
              "       [1.50487751e-01, 8.49512219e-01],\n",
              "       [2.00788751e-01, 7.99211264e-01],\n",
              "       [1.99744813e-02, 9.80025530e-01],\n",
              "       [7.77030664e-07, 9.99999166e-01],\n",
              "       [9.99886274e-01, 1.13675778e-04],\n",
              "       [9.99991894e-01, 8.06557364e-06],\n",
              "       [6.84022950e-03, 9.93159771e-01],\n",
              "       [8.80560815e-01, 1.19439200e-01],\n",
              "       [1.75903901e-01, 8.24096143e-01],\n",
              "       [4.60461341e-02, 9.53953922e-01],\n",
              "       [9.99994516e-01, 5.52976371e-06],\n",
              "       [9.57493484e-01, 4.25065123e-02],\n",
              "       [9.99932528e-01, 6.74581752e-05],\n",
              "       [1.81822196e-01, 8.18177760e-01],\n",
              "       [5.61165598e-06, 9.99994397e-01],\n",
              "       [3.51969868e-01, 6.48030162e-01],\n",
              "       [1.92578375e-01, 8.07421565e-01],\n",
              "       [3.85135859e-01, 6.14864111e-01],\n",
              "       [9.64117944e-01, 3.58820334e-02],\n",
              "       [1.74103364e-01, 8.25896621e-01],\n",
              "       [6.87142611e-01, 3.12857449e-01],\n",
              "       [9.63077724e-01, 3.69223244e-02],\n",
              "       [9.27326262e-01, 7.26737157e-02],\n",
              "       [9.53152657e-01, 4.68472987e-02],\n",
              "       [2.51850784e-01, 7.48149216e-01],\n",
              "       [1.01607732e-01, 8.98392320e-01],\n",
              "       [9.99994755e-01, 5.24941470e-06],\n",
              "       [9.66525614e-01, 3.34743969e-02],\n",
              "       [1.00000000e+00, 7.23998594e-09],\n",
              "       [1.60953611e-01, 8.39046419e-01],\n",
              "       [2.27648132e-02, 9.77235138e-01],\n",
              "       [8.91777992e-01, 1.08221941e-01],\n",
              "       [4.04683620e-01, 5.95316410e-01],\n",
              "       [2.11204275e-01, 7.88795710e-01],\n",
              "       [9.99845982e-01, 1.53935194e-04],\n",
              "       [1.00000000e+00, 1.09795707e-10],\n",
              "       [3.63046050e-01, 6.36953950e-01],\n",
              "       [9.99635220e-01, 3.64799722e-04],\n",
              "       [9.83057916e-01, 1.69421099e-02],\n",
              "       [9.86918271e-01, 1.30817257e-02],\n",
              "       [3.65433604e-01, 6.34566426e-01],\n",
              "       [8.35032940e-01, 1.64967105e-01],\n",
              "       [1.44722283e-01, 8.55277658e-01],\n",
              "       [1.00000000e+00, 2.77662515e-08],\n",
              "       [1.00000000e+00, 4.36188152e-09],\n",
              "       [1.00000000e+00, 1.13778507e-08],\n",
              "       [9.61961806e-01, 3.80382054e-02],\n",
              "       [3.45486313e-01, 6.54513657e-01],\n",
              "       [9.99997973e-01, 1.98724479e-06],\n",
              "       [9.62172747e-01, 3.78272571e-02],\n",
              "       [1.24531537e-01, 8.75468433e-01],\n",
              "       [9.01364505e-01, 9.86355096e-02],\n",
              "       [4.05964375e-01, 5.94035685e-01],\n",
              "       [1.59030274e-01, 8.40969682e-01],\n",
              "       [8.37591961e-02, 9.16240811e-01],\n",
              "       [8.82766604e-01, 1.17233351e-01],\n",
              "       [9.99999642e-01, 3.08742187e-07],\n",
              "       [1.00000000e+00, 5.32730304e-09],\n",
              "       [8.93160880e-01, 1.06839113e-01],\n",
              "       [8.78096879e-01, 1.21903136e-01],\n",
              "       [1.80295482e-01, 8.19704473e-01],\n",
              "       [5.37127764e-09, 1.00000000e+00],\n",
              "       [2.49846876e-01, 7.50153124e-01],\n",
              "       [6.38755858e-01, 3.61244142e-01],\n",
              "       [9.99114215e-01, 8.85723799e-04],\n",
              "       [9.99762118e-01, 2.37936823e-04],\n",
              "       [6.51869774e-01, 3.48130256e-01],\n",
              "       [4.98099536e-01, 5.01900494e-01],\n",
              "       [9.99774158e-01, 2.25827433e-04],\n",
              "       [8.87713373e-01, 1.12286635e-01],\n",
              "       [1.84225723e-01, 8.15774202e-01],\n",
              "       [5.57394363e-02, 9.44260597e-01],\n",
              "       [8.14154893e-02, 9.18584466e-01],\n",
              "       [9.99184046e-03, 9.90008116e-01],\n",
              "       [4.87224281e-01, 5.12775719e-01],\n",
              "       [1.48595452e-01, 8.51404548e-01],\n",
              "       [9.99996901e-01, 3.11513372e-06],\n",
              "       [3.58508005e-05, 9.99964118e-01],\n",
              "       [9.35419142e-01, 6.45808801e-02],\n",
              "       [1.28635988e-01, 8.71363997e-01],\n",
              "       [1.01885244e-01, 8.98114741e-01],\n",
              "       [7.01365471e-01, 2.98634529e-01],\n",
              "       [9.73853528e-01, 2.61464864e-02],\n",
              "       [8.98163199e-01, 1.01836823e-01],\n",
              "       [9.95905995e-01, 4.09396039e-03],\n",
              "       [1.48754433e-01, 8.51245582e-01],\n",
              "       [9.99999523e-01, 4.76721198e-07],\n",
              "       [9.85278964e-01, 1.47209968e-02],\n",
              "       [1.26242727e-01, 8.73757243e-01],\n",
              "       [2.31893107e-01, 7.68106878e-01],\n",
              "       [9.33423102e-01, 6.65769577e-02],\n",
              "       [1.67568684e-01, 8.32431257e-01],\n",
              "       [3.77358049e-01, 6.22641981e-01],\n",
              "       [1.81937024e-01, 8.18063021e-01],\n",
              "       [2.64370739e-01, 7.35629261e-01],\n",
              "       [2.22281799e-01, 7.77718127e-01],\n",
              "       [3.51995766e-01, 6.48004234e-01],\n",
              "       [1.23351611e-01, 8.76648366e-01],\n",
              "       [1.63337648e-01, 8.36662412e-01],\n",
              "       [9.76360381e-01, 2.36396026e-02],\n",
              "       [9.99716222e-01, 2.83775938e-04],\n",
              "       [9.10829365e-01, 8.91706273e-02],\n",
              "       [1.12320103e-01, 8.87679935e-01],\n",
              "       [9.81796324e-01, 1.82036981e-02],\n",
              "       [2.49096349e-01, 7.50903606e-01],\n",
              "       [3.85135859e-01, 6.14864111e-01],\n",
              "       [1.82986319e-01, 8.17013681e-01],\n",
              "       [9.99956608e-01, 4.34017384e-05],\n",
              "       [1.28626809e-01, 8.71373236e-01],\n",
              "       [9.19091225e-01, 8.09088424e-02],\n",
              "       [1.82070851e-01, 8.17929149e-01],\n",
              "       [2.91842908e-01, 7.08157122e-01],\n",
              "       [8.78692269e-01, 1.21307731e-01],\n",
              "       [9.91196707e-02, 9.00880396e-01],\n",
              "       [1.27022833e-01, 8.72977197e-01],\n",
              "       [3.75307107e-04, 9.99624729e-01],\n",
              "       [9.73245144e-01, 2.67548636e-02],\n",
              "       [9.38205719e-01, 6.17942587e-02],\n",
              "       [1.13244153e-06, 9.99998927e-01],\n",
              "       [9.79485512e-01, 2.05144566e-02],\n",
              "       [9.40356493e-01, 5.96434809e-02],\n",
              "       [9.40458655e-01, 5.95413186e-02],\n",
              "       [2.26305798e-01, 7.73694217e-01],\n",
              "       [2.94819046e-02, 9.70518053e-01],\n",
              "       [6.29877159e-03, 9.93701220e-01],\n",
              "       [3.44050199e-01, 6.55949771e-01],\n",
              "       [9.31246102e-01, 6.87539279e-02],\n",
              "       [9.93530333e-01, 6.46964461e-03],\n",
              "       [5.43206057e-04, 9.99456823e-01],\n",
              "       [8.73013064e-02, 9.12698686e-01],\n",
              "       [9.39801812e-01, 6.01982102e-02],\n",
              "       [3.77231658e-01, 6.22768402e-01],\n",
              "       [9.99922395e-01, 7.76140805e-05],\n",
              "       [1.22278892e-01, 8.77721131e-01],\n",
              "       [9.98485267e-01, 1.51475472e-03],\n",
              "       [5.11623046e-04, 9.99488354e-01],\n",
              "       [9.59189355e-01, 4.08106446e-02],\n",
              "       [3.86473358e-01, 6.13526642e-01],\n",
              "       [5.44939876e-01, 4.55060154e-01],\n",
              "       [2.70885170e-01, 7.29114890e-01],\n",
              "       [9.99990702e-01, 9.26743178e-06],\n",
              "       [1.73948545e-04, 9.99826133e-01],\n",
              "       [2.81779671e-06, 9.99997139e-01],\n",
              "       [9.72047448e-01, 2.79525127e-02],\n",
              "       [3.16801459e-01, 6.83198512e-01],\n",
              "       [1.00000000e+00, 4.06490059e-08],\n",
              "       [9.39881086e-01, 6.01189323e-02],\n",
              "       [7.34389869e-06, 9.99992609e-01],\n",
              "       [3.20209146e-01, 6.79790854e-01],\n",
              "       [8.31360102e-01, 1.68639943e-01],\n",
              "       [9.67315464e-06, 9.99990344e-01],\n",
              "       [1.72934055e-01, 8.27065945e-01],\n",
              "       [3.64643753e-01, 6.35356188e-01],\n",
              "       [1.00000000e+00, 1.05525733e-09],\n",
              "       [9.31464911e-01, 6.85350522e-02],\n",
              "       [9.27326262e-01, 7.26737157e-02],\n",
              "       [9.99740303e-01, 2.59716791e-04],\n",
              "       [7.33582497e-01, 2.66417593e-01],\n",
              "       [8.63458931e-01, 1.36541054e-01],\n",
              "       [9.91866767e-01, 8.13327171e-03],\n",
              "       [1.26244187e-01, 8.73755813e-01],\n",
              "       [8.41233671e-01, 1.58766314e-01],\n",
              "       [1.51416391e-01, 8.48583639e-01],\n",
              "       [3.21241379e-01, 6.78758621e-01],\n",
              "       [1.00000000e+00, 3.15970183e-09],\n",
              "       [9.82475638e-01, 1.75243448e-02],\n",
              "       [5.79760510e-14, 1.00000000e+00],\n",
              "       [9.97095585e-01, 2.90442398e-03],\n",
              "       [9.25314009e-01, 7.46859685e-02],\n",
              "       [1.29502178e-05, 9.99987006e-01],\n",
              "       [9.32536304e-01, 6.74636960e-02],\n",
              "       [1.00000000e+00, 2.13399905e-11],\n",
              "       [5.60600718e-04, 9.99439418e-01],\n",
              "       [1.00000000e+00, 6.68332456e-09],\n",
              "       [9.99998450e-01, 1.51072152e-06],\n",
              "       [6.67822719e-01, 3.32177252e-01],\n",
              "       [9.52086687e-01, 4.79133651e-02],\n",
              "       [1.51294813e-01, 8.48705173e-01],\n",
              "       [9.26488042e-01, 7.35120177e-02],\n",
              "       [9.99991179e-01, 8.83618668e-06],\n",
              "       [9.52086687e-01, 4.79133651e-02],\n",
              "       [3.71958047e-01, 6.28041923e-01],\n",
              "       [9.77876306e-01, 2.21237279e-02],\n",
              "       [1.98172733e-01, 8.01827312e-01],\n",
              "       [2.22799912e-01, 7.77200103e-01],\n",
              "       [7.49762595e-01, 2.50237405e-01],\n",
              "       [9.66525614e-01, 3.34743969e-02],\n",
              "       [9.99751508e-01, 2.48532277e-04],\n",
              "       [1.00000000e+00, 1.03574971e-08],\n",
              "       [2.11958528e-01, 7.88041413e-01],\n",
              "       [1.02829417e-05, 9.99989748e-01],\n",
              "       [2.67798364e-01, 7.32201576e-01],\n",
              "       [9.31730151e-01, 6.82698786e-02],\n",
              "       [3.51995766e-01, 6.48004234e-01],\n",
              "       [3.09580797e-03, 9.96904194e-01],\n",
              "       [5.51778138e-01, 4.48221833e-01],\n",
              "       [9.98124540e-01, 1.87541323e-03],\n",
              "       [1.58713385e-01, 8.41286659e-01],\n",
              "       [9.79197741e-01, 2.08022762e-02],\n",
              "       [7.53443048e-04, 9.99246597e-01],\n",
              "       [2.26082197e-09, 1.00000000e+00],\n",
              "       [1.37346625e-01, 8.62653375e-01],\n",
              "       [1.14956252e-01, 8.85043800e-01],\n",
              "       [2.31893107e-01, 7.68106878e-01],\n",
              "       [1.94608554e-01, 8.05391490e-01],\n",
              "       [7.50200241e-04, 9.99249756e-01],\n",
              "       [9.29298997e-01, 7.07010776e-02],\n",
              "       [3.94000253e-03, 9.96059954e-01],\n",
              "       [2.88195242e-05, 9.99971151e-01],\n",
              "       [9.43530083e-01, 5.64698949e-02],\n",
              "       [2.31893107e-01, 7.68106878e-01],\n",
              "       [7.53551781e-01, 2.46448219e-01],\n",
              "       [6.76235616e-01, 3.23764443e-01],\n",
              "       [4.37362604e-02, 9.56263781e-01],\n",
              "       [2.31893107e-01, 7.68106878e-01],\n",
              "       [9.22289431e-01, 7.77105987e-02],\n",
              "       [8.96073699e-01, 1.03926338e-01],\n",
              "       [3.51969868e-01, 6.48030162e-01],\n",
              "       [3.51969868e-01, 6.48030162e-01],\n",
              "       [1.34426614e-06, 9.99998689e-01],\n",
              "       [1.42986819e-01, 8.57013226e-01],\n",
              "       [7.01941133e-01, 2.98058838e-01],\n",
              "       [2.57204413e-01, 7.42795587e-01],\n",
              "       [3.45998909e-03, 9.96540070e-01],\n",
              "       [8.28778684e-01, 1.71221286e-01],\n",
              "       [9.99512553e-01, 4.87502693e-04],\n",
              "       [6.68332517e-01, 3.31667453e-01],\n",
              "       [2.68127441e-01, 7.31872618e-01],\n",
              "       [8.11288536e-01, 1.88711524e-01],\n",
              "       [1.31477237e-01, 8.68522763e-01],\n",
              "       [2.12693259e-01, 7.87306726e-01],\n",
              "       [7.37096590e-04, 9.99262869e-01],\n",
              "       [7.68891513e-01, 2.31108531e-01],\n",
              "       [4.69802227e-03, 9.95301962e-01],\n",
              "       [1.36854440e-01, 8.63145590e-01],\n",
              "       [9.44710076e-01, 5.52899279e-02],\n",
              "       [3.52210784e-03, 9.96477902e-01],\n",
              "       [9.17375267e-01, 8.26246738e-02],\n",
              "       [2.31893107e-01, 7.68106878e-01],\n",
              "       [1.93711758e-01, 8.06288183e-01],\n",
              "       [6.19802117e-01, 3.80197883e-01],\n",
              "       [3.65080722e-02, 9.63491976e-01],\n",
              "       [9.31464911e-01, 6.85350522e-02],\n",
              "       [1.00540742e-01, 8.99459243e-01],\n",
              "       [9.73986516e-07, 9.99999046e-01],\n",
              "       [1.31494313e-01, 8.68505657e-01],\n",
              "       [4.91624564e-01, 5.08375466e-01],\n",
              "       [8.35709810e-01, 1.64290160e-01],\n",
              "       [9.19091225e-01, 8.09088424e-02],\n",
              "       [1.73222095e-01, 8.26777935e-01],\n",
              "       [5.06075856e-04, 9.99493957e-01],\n",
              "       [9.17563021e-01, 8.24369863e-02],\n",
              "       [5.34038874e-04, 9.99466002e-01],\n",
              "       [9.99688864e-01, 3.11212847e-04],\n",
              "       [1.02275617e-01, 8.97724390e-01],\n",
              "       [1.51288358e-03, 9.98487115e-01],\n",
              "       [9.87257421e-01, 1.27425725e-02],\n",
              "       [9.59991336e-01, 4.00086977e-02],\n",
              "       [1.70586094e-01, 8.29413831e-01],\n",
              "       [9.80776727e-01, 1.92232281e-02],\n",
              "       [9.75735188e-01, 2.42648628e-02],\n",
              "       [2.22035396e-05, 9.99977827e-01],\n",
              "       [8.88743281e-01, 1.11256666e-01],\n",
              "       [7.08393931e-01, 2.91606069e-01],\n",
              "       [8.33533943e-01, 1.66466087e-01],\n",
              "       [1.14859834e-01, 8.85140181e-01],\n",
              "       [3.48988222e-03, 9.96510088e-01],\n",
              "       [9.99932647e-01, 6.73304166e-05],\n",
              "       [2.20504731e-01, 7.79495299e-01],\n",
              "       [9.99978781e-01, 2.12706018e-05],\n",
              "       [4.45844402e-04, 9.99554098e-01],\n",
              "       [1.80295482e-01, 8.19704473e-01],\n",
              "       [9.99961972e-01, 3.80138263e-05],\n",
              "       [9.16044712e-01, 8.39552432e-02],\n",
              "       [9.26008284e-01, 7.39917308e-02],\n",
              "       [8.10090542e-01, 1.89909458e-01],\n",
              "       [1.11330383e-01, 8.88669550e-01],\n",
              "       [1.35749042e-01, 8.64250958e-01],\n",
              "       [9.76405382e-01, 2.35946085e-02],\n",
              "       [9.75930989e-01, 2.40690392e-02],\n",
              "       [1.67658704e-03, 9.98323381e-01],\n",
              "       [9.95025337e-01, 4.97464463e-03],\n",
              "       [2.23820090e-01, 7.76179910e-01],\n",
              "       [9.19091225e-01, 8.09088424e-02],\n",
              "       [9.10751939e-01, 8.92480761e-02],\n",
              "       [4.11932878e-02, 9.58806753e-01],\n",
              "       [9.19316053e-01, 8.06839764e-02],\n",
              "       [3.97045776e-04, 9.99602973e-01],\n",
              "       [3.51995766e-01, 6.48004234e-01],\n",
              "       [2.05597162e-01, 7.94402838e-01],\n",
              "       [1.04501642e-01, 8.95498395e-01],\n",
              "       [7.97090232e-02, 9.20291007e-01],\n",
              "       [9.78096426e-01, 2.19035875e-02],\n",
              "       [8.74092519e-01, 1.25907466e-01],\n",
              "       [9.99985337e-01, 1.46491866e-05],\n",
              "       [2.11923271e-01, 7.88076639e-01],\n",
              "       [8.01824629e-01, 1.98175386e-01],\n",
              "       [8.94913793e-01, 1.05086215e-01],\n",
              "       [1.95666328e-01, 8.04333627e-01],\n",
              "       [9.99929309e-01, 7.06631181e-05],\n",
              "       [9.52086687e-01, 4.79133651e-02],\n",
              "       [1.72557071e-01, 8.27442944e-01],\n",
              "       [9.40356493e-01, 5.96434809e-02],\n",
              "       [2.56163720e-03, 9.97438312e-01],\n",
              "       [9.73727763e-01, 2.62722317e-02],\n",
              "       [9.31622744e-01, 6.83772564e-02],\n",
              "       [3.00886363e-01, 6.99113727e-01],\n",
              "       [1.67390201e-02, 9.83260930e-01],\n",
              "       [1.18829426e-03, 9.98811722e-01],\n",
              "       [8.88283074e-01, 1.11716866e-01],\n",
              "       [3.07240486e-01, 6.92759514e-01],\n",
              "       [9.21724558e-01, 7.82753974e-02],\n",
              "       [2.26938605e-01, 7.73061395e-01],\n",
              "       [1.01170652e-01, 8.98829341e-01],\n",
              "       [2.26305798e-01, 7.73694217e-01],\n",
              "       [3.85135859e-01, 6.14864111e-01],\n",
              "       [6.36741519e-01, 3.63258451e-01],\n",
              "       [8.69404256e-01, 1.30595714e-01],\n",
              "       [9.93105829e-01, 6.89422386e-03],\n",
              "       [3.16674472e-04, 9.99683380e-01],\n",
              "       [3.71958047e-01, 6.28041923e-01],\n",
              "       [7.93970749e-02, 9.20602858e-01],\n",
              "       [3.08039962e-05, 9.99969244e-01],\n",
              "       [6.53949082e-01, 3.46050888e-01],\n",
              "       [3.14464569e-01, 6.85535371e-01],\n",
              "       [6.86610758e-01, 3.13389242e-01],\n",
              "       [1.73915282e-01, 8.26084733e-01],\n",
              "       [9.74448383e-01, 2.55516171e-02],\n",
              "       [9.56418037e-01, 4.35819179e-02],\n",
              "       [1.32200494e-01, 8.67799461e-01],\n",
              "       [6.35158420e-01, 3.64841551e-01],\n",
              "       [4.92154853e-03, 9.95078444e-01],\n",
              "       [1.20136350e-01, 8.79863679e-01],\n",
              "       [9.47357178e-01, 5.26428632e-02],\n",
              "       [9.14573789e-01, 8.54262114e-02],\n",
              "       [8.15558899e-03, 9.91844356e-01],\n",
              "       [9.38494265e-01, 6.15057684e-02],\n",
              "       [1.36704877e-01, 8.63295138e-01],\n",
              "       [9.25876737e-01, 7.41232783e-02],\n",
              "       [3.15424502e-01, 6.84575558e-01],\n",
              "       [9.52086687e-01, 4.79133651e-02],\n",
              "       [5.98676838e-02, 9.40132320e-01],\n",
              "       [9.52086687e-01, 4.79133651e-02],\n",
              "       [8.89198124e-01, 1.10801831e-01],\n",
              "       [6.68713881e-04, 9.99331355e-01],\n",
              "       [9.18150127e-01, 8.18498805e-02],\n",
              "       [8.77450705e-01, 1.22549318e-01],\n",
              "       [9.61819172e-01, 3.81807946e-02],\n",
              "       [9.98599350e-01, 1.40067702e-03],\n",
              "       [2.61250953e-03, 9.97387469e-01],\n",
              "       [9.90185738e-02, 9.00981367e-01],\n",
              "       [9.99747097e-01, 2.52957572e-04],\n",
              "       [2.47511387e-01, 7.52488554e-01],\n",
              "       [9.61431623e-01, 3.85683887e-02],\n",
              "       [2.44234040e-01, 7.55765975e-01],\n",
              "       [4.38611098e-02, 9.56138909e-01],\n",
              "       [8.61766100e-01, 1.38233915e-01],\n",
              "       [2.27391422e-02, 9.77260888e-01],\n",
              "       [2.32338712e-01, 7.67661273e-01],\n",
              "       [1.34829864e-01, 8.65170121e-01],\n",
              "       [9.07436013e-01, 9.25639644e-02],\n",
              "       [2.26305798e-01, 7.73694217e-01],\n",
              "       [1.62874721e-06, 9.99998331e-01],\n",
              "       [8.43207717e-01, 1.56792328e-01],\n",
              "       [1.09384178e-04, 9.99890566e-01],\n",
              "       [9.53060746e-01, 4.69393171e-02],\n",
              "       [9.99992967e-01, 6.98950544e-06],\n",
              "       [8.77785385e-01, 1.22214593e-01],\n",
              "       [1.51294813e-01, 8.48705173e-01],\n",
              "       [8.33730996e-01, 1.66269004e-01],\n",
              "       [1.39463201e-01, 8.60536754e-01],\n",
              "       [8.79216194e-02, 9.12078321e-01],\n",
              "       [1.21375754e-01, 8.78624260e-01],\n",
              "       [9.99996781e-01, 3.25649080e-06],\n",
              "       [8.91306520e-01, 1.08693436e-01],\n",
              "       [9.96101379e-01, 3.89866880e-03],\n",
              "       [4.67908770e-01, 5.32091260e-01],\n",
              "       [1.88971549e-01, 8.11028421e-01],\n",
              "       [1.22686743e-07, 9.99999881e-01],\n",
              "       [9.75845158e-01, 2.41548847e-02],\n",
              "       [5.62068880e-01, 4.37931120e-01],\n",
              "       [1.17879905e-01, 8.82120132e-01],\n",
              "       [2.85832137e-01, 7.14167893e-01],\n",
              "       [4.15056080e-01, 5.84943891e-01],\n",
              "       [8.45140338e-01, 1.54859632e-01],\n",
              "       [1.71370506e-01, 8.28629553e-01],\n",
              "       [3.85135859e-01, 6.14864111e-01],\n",
              "       [5.91722142e-07, 9.99999404e-01],\n",
              "       [2.31893107e-01, 7.68106878e-01],\n",
              "       [7.57070398e-03, 9.92429316e-01],\n",
              "       [1.02049345e-02, 9.89795029e-01],\n",
              "       [3.74501467e-01, 6.25498533e-01],\n",
              "       [1.00000000e+00, 1.86085458e-09],\n",
              "       [9.52086687e-01, 4.79133651e-02],\n",
              "       [1.24290474e-01, 8.75709534e-01],\n",
              "       [5.79543896e-02, 9.42045569e-01],\n",
              "       [2.09184304e-01, 7.90815711e-01],\n",
              "       [9.99999285e-01, 6.83069459e-07],\n",
              "       [9.53745902e-01, 4.62541729e-02],\n",
              "       [9.59845901e-01, 4.01540324e-02],\n",
              "       [7.28458166e-04, 9.99271572e-01],\n",
              "       [1.40753135e-01, 8.59246850e-01],\n",
              "       [7.31490552e-01, 2.68509388e-01],\n",
              "       [5.54539263e-02, 9.44546044e-01],\n",
              "       [9.97931242e-01, 2.06870516e-03],\n",
              "       [9.91087854e-01, 8.91219731e-03],\n",
              "       [7.79145921e-04, 9.99220848e-01]], dtype=float32)"
            ]
          },
          "metadata": {
            "tags": []
          },
          "execution_count": 43
        }
      ]
    },
    {
      "cell_type": "code",
      "metadata": {
        "colab": {
          "base_uri": "https://localhost:8080/"
        },
        "id": "16-kZ_0KPmWB",
        "outputId": "c73a9128-5f71-409d-f26f-6bdd7b37bbf3"
      },
      "source": [
        "# Alternatively, we can get only the second column\r\n",
        "# The main idea is that we are often interested in ONLY ONE of the two outcomes\r\n",
        "# In this case we would like to know if the customer will convert again\r\n",
        "# Once more, we can round to 0 digits, to achieve only 0s or 1s\r\n",
        "model.predict(test_inputs)[:,1].round(0)"
      ],
      "execution_count": 44,
      "outputs": [
        {
          "output_type": "execute_result",
          "data": {
            "text/plain": [
              "array([1., 1., 0., 1., 0., 1., 0., 1., 1., 1., 1., 1., 1., 1., 1., 0., 1.,\n",
              "       1., 0., 1., 1., 0., 1., 1., 1., 1., 1., 0., 0., 0., 1., 1., 0., 1.,\n",
              "       1., 0., 0., 0., 0., 0., 0., 1., 1., 1., 1., 0., 0., 1., 0., 1., 1.,\n",
              "       0., 0., 0., 1., 1., 1., 1., 1., 0., 1., 0., 0., 0., 0., 1., 1., 0.,\n",
              "       0., 0., 1., 1., 0., 1., 1., 0., 0., 1., 0., 0., 0., 1., 0., 1., 0.,\n",
              "       0., 0., 0., 1., 0., 0., 1., 0., 1., 1., 1., 0., 0., 0., 0., 0., 1.,\n",
              "       1., 1., 0., 0., 0., 0., 1., 0., 0., 1., 1., 1., 1., 1., 1., 0., 1.,\n",
              "       0., 1., 1., 0., 0., 0., 0., 1., 0., 0., 1., 1., 0., 1., 1., 1., 1.,\n",
              "       1., 1., 1., 1., 0., 0., 0., 1., 0., 1., 1., 1., 0., 1., 0., 1., 1.,\n",
              "       0., 1., 1., 1., 0., 0., 1., 0., 0., 0., 1., 1., 1., 1., 0., 0., 1.,\n",
              "       1., 0., 1., 0., 1., 0., 1., 0., 1., 0., 1., 0., 1., 1., 0., 1., 0.,\n",
              "       0., 1., 1., 0., 1., 1., 1., 0., 0., 0., 0., 0., 0., 0., 1., 0., 1.,\n",
              "       1., 0., 0., 1., 0., 0., 1., 0., 0., 1., 0., 0., 0., 0., 1., 0., 0.,\n",
              "       0., 1., 0., 1., 1., 0., 0., 0., 0., 1., 1., 1., 0., 1., 1., 0., 0.,\n",
              "       1., 0., 1., 1., 1., 1., 1., 1., 1., 0., 1., 1., 0., 1., 0., 0., 1.,\n",
              "       1., 0., 0., 1., 1., 1., 1., 0., 1., 1., 0., 0., 0., 1., 0., 1., 1.,\n",
              "       1., 0., 1., 1., 0., 1., 0., 1., 1., 0., 1., 0., 1., 1., 1., 1., 0.,\n",
              "       0., 1., 1., 0., 1., 0., 1., 1., 0., 0., 1., 0., 0., 1., 0., 0., 0.,\n",
              "       1., 1., 0., 1., 0., 1., 1., 0., 0., 0., 0., 1., 1., 0., 0., 1., 0.,\n",
              "       1., 0., 0., 1., 0., 1., 1., 1., 1., 1., 0., 0., 0., 1., 0., 0., 1.,\n",
              "       0., 0., 1., 0., 1., 0., 0., 1., 1., 1., 0., 1., 0., 1., 1., 1., 1.,\n",
              "       0., 0., 0., 1., 1., 1., 1., 0., 1., 0., 1., 0., 0., 1., 0., 1., 1.,\n",
              "       0., 0., 1., 0., 1., 0., 1., 0., 1., 0., 0., 1., 0., 0., 0., 0., 1.,\n",
              "       1., 0., 1., 0., 1., 1., 0., 1., 1., 1., 0., 1., 1., 0., 1., 0., 0.,\n",
              "       0., 1., 0., 1., 1., 1., 0., 0., 0., 1., 1., 1., 0., 0., 1., 1., 1.,\n",
              "       0., 1., 1., 1., 1., 1., 1., 1., 0., 0., 1., 1., 1., 0., 0., 0., 1.,\n",
              "       1., 0., 1., 0., 0., 1.], dtype=float32)"
            ]
          },
          "metadata": {
            "tags": []
          },
          "execution_count": 44
        }
      ]
    },
    {
      "cell_type": "code",
      "metadata": {
        "colab": {
          "base_uri": "https://localhost:8080/"
        },
        "id": "zSYL4XkDPmTV",
        "outputId": "ac338cfa-8477-4e7b-9b58-13f64b698092"
      },
      "source": [
        "# A much better approach here would be to use argmax (arguments of the maxima)\r\n",
        "# Argmax indicates the position of the highest argument row-wise or column-wise\r\n",
        "# In our case, we want ot know which COLUMN has the higher argument (probability), therefore we set axis=1 (for columns)\r\n",
        "# The output would be the column ID with the highest argument for each observation (row)\r\n",
        "# For instance, the first observation (in our output) was [0.93,0.07]\r\n",
        "# np.argmax([0.93,0.07], axis=1) would find that 0.91 is the higher argument (higher probability) and return 0\r\n",
        "# This method is great for multi-class problems as it is independent of the number of classes\r\n",
        "np.argmax(model.predict(test_inputs),axis=1)"
      ],
      "execution_count": 45,
      "outputs": [
        {
          "output_type": "execute_result",
          "data": {
            "text/plain": [
              "array([1, 1, 0, 1, 0, 1, 0, 1, 1, 1, 1, 1, 1, 1, 1, 0, 1, 1, 0, 1, 1, 0,\n",
              "       1, 1, 1, 1, 1, 0, 0, 0, 1, 1, 0, 1, 1, 0, 0, 0, 0, 0, 0, 1, 1, 1,\n",
              "       1, 0, 0, 1, 0, 1, 1, 0, 0, 0, 1, 1, 1, 1, 1, 0, 1, 0, 0, 0, 0, 1,\n",
              "       1, 0, 0, 0, 1, 1, 0, 1, 1, 0, 0, 1, 0, 0, 0, 1, 0, 1, 0, 0, 0, 0,\n",
              "       1, 0, 0, 1, 0, 1, 1, 1, 0, 0, 0, 0, 0, 1, 1, 1, 0, 0, 0, 0, 1, 0,\n",
              "       0, 1, 1, 1, 1, 1, 1, 0, 1, 0, 1, 1, 0, 0, 0, 0, 1, 0, 0, 1, 1, 0,\n",
              "       1, 1, 1, 1, 1, 1, 1, 1, 0, 0, 0, 1, 0, 1, 1, 1, 0, 1, 0, 1, 1, 0,\n",
              "       1, 1, 1, 0, 0, 1, 0, 0, 0, 1, 1, 1, 1, 0, 0, 1, 1, 0, 1, 0, 1, 0,\n",
              "       1, 0, 1, 0, 1, 0, 1, 1, 0, 1, 0, 0, 1, 1, 0, 1, 1, 1, 0, 0, 0, 0,\n",
              "       0, 0, 0, 1, 0, 1, 1, 0, 0, 1, 0, 0, 1, 0, 0, 1, 0, 0, 0, 0, 1, 0,\n",
              "       0, 0, 1, 0, 1, 1, 0, 0, 0, 0, 1, 1, 1, 0, 1, 1, 0, 0, 1, 0, 1, 1,\n",
              "       1, 1, 1, 1, 1, 0, 1, 1, 0, 1, 0, 0, 1, 1, 0, 0, 1, 1, 1, 1, 0, 1,\n",
              "       1, 0, 0, 0, 1, 0, 1, 1, 1, 0, 1, 1, 0, 1, 0, 1, 1, 0, 1, 0, 1, 1,\n",
              "       1, 1, 0, 0, 1, 1, 0, 1, 0, 1, 1, 0, 0, 1, 0, 0, 1, 0, 0, 0, 1, 1,\n",
              "       0, 1, 0, 1, 1, 0, 0, 0, 0, 1, 1, 0, 0, 1, 0, 1, 0, 0, 1, 0, 1, 1,\n",
              "       1, 1, 1, 0, 0, 0, 1, 0, 0, 1, 0, 0, 1, 0, 1, 0, 0, 1, 1, 1, 0, 1,\n",
              "       0, 1, 1, 1, 1, 0, 0, 0, 1, 1, 1, 1, 0, 1, 0, 1, 0, 0, 1, 0, 1, 1,\n",
              "       0, 0, 1, 0, 1, 0, 1, 0, 1, 0, 0, 1, 0, 0, 0, 0, 1, 1, 0, 1, 0, 1,\n",
              "       1, 0, 1, 1, 1, 0, 1, 1, 0, 1, 0, 0, 0, 1, 0, 1, 1, 1, 0, 0, 0, 1,\n",
              "       1, 1, 0, 0, 1, 1, 1, 0, 1, 1, 1, 1, 1, 1, 1, 0, 0, 1, 1, 1, 0, 0,\n",
              "       0, 1, 1, 0, 1, 0, 0, 1])"
            ]
          },
          "metadata": {
            "tags": []
          },
          "execution_count": 45
        }
      ]
    },
    {
      "cell_type": "markdown",
      "metadata": {
        "id": "yliTY7ZfQaAf"
      },
      "source": [
        "## Save the model"
      ]
    },
    {
      "cell_type": "code",
      "metadata": {
        "id": "-QJQCAJJPmQ3"
      },
      "source": [
        "# Finally we save the model using the built-in method TensorFlow method\r\n",
        "# We choose the name and the file extension\r\n",
        "# Since the HDF format is optimal for large numerical objects, that's our preferred choice here (and the one recommended by TF)\r\n",
        "# The proper extension is .h5 to indicate HDF, version 5\r\n",
        "model.save('audiobooks_model.h5') "
      ],
      "execution_count": 46,
      "outputs": []
    },
    {
      "cell_type": "markdown",
      "metadata": {
        "id": "uCRLfkGlSFGV"
      },
      "source": [
        "# Predicting on new data\r\n",
        "\r\n",
        "## Import the relevant libraries\r\n",
        "\r\n"
      ]
    },
    {
      "cell_type": "code",
      "metadata": {
        "id": "iCTRqBQRPmOP"
      },
      "source": [
        "# As usual we are starting a new notebook and we need to import all relevant packages\r\n",
        "import numpy as np\r\n",
        "import tensorflow as tf\r\n",
        "import pickle"
      ],
      "execution_count": 47,
      "outputs": []
    },
    {
      "cell_type": "markdown",
      "metadata": {
        "id": "SbFEeRUJSLPP"
      },
      "source": [
        "## Load the scaler and the model"
      ]
    },
    {
      "cell_type": "code",
      "metadata": {
        "id": "Xd3L5UrOPmLn"
      },
      "source": [
        "# To load the scaler we use the pickle method load\r\n",
        "scaler_deep_learning = pickle.load(open('scaler_deep_learning.pickle', 'rb'))\r\n",
        "# To load the model, we use the TensorFlow (Keras) function relevant for the operation\r\n",
        "model = tf.keras.models.load_model('audiobooks_model.h5')\r\n",
        "\r\n",
        "# Note that since we did not specify the input shape of our inputs in the modeling part, we get a warning\r\n",
        "# For feed-forward neural networks such as ours that is not an issue"
      ],
      "execution_count": 48,
      "outputs": []
    },
    {
      "cell_type": "markdown",
      "metadata": {
        "id": "qoiEQocgSQhq"
      },
      "source": [
        "## Load the new data"
      ]
    },
    {
      "cell_type": "code",
      "metadata": {
        "id": "7v7DskAESOdc"
      },
      "source": [
        "# The new data is located in 'New_Audiobooks_Data.csv'\r\n",
        "# To keep everything as before, we must specify the delimiter explicitly\r\n",
        "raw_data = np.loadtxt(GD_PATH+'New_Audiobooks_Data.csv',delimiter=',')\r\n",
        "# We are interested in all data except for the first column (ID)\r\n",
        "# Note that there are no targets in this CSV file (we don't know the behavior of these clients, yet!)\r\n",
        "new_data_inputs = raw_data[:,1:]"
      ],
      "execution_count": 49,
      "outputs": []
    },
    {
      "cell_type": "markdown",
      "metadata": {
        "id": "sbRhD9oISoRb"
      },
      "source": [
        "## Predict the probability of a customer to convert"
      ]
    },
    {
      "cell_type": "code",
      "metadata": {
        "id": "vg4a6f12SOZs"
      },
      "source": [
        "# Scale the new data in the same way we scaled the train data\r\n",
        "new_data_inputs_scaled = scaler_deep_learning.transform(new_data_inputs)"
      ],
      "execution_count": 50,
      "outputs": []
    },
    {
      "cell_type": "code",
      "metadata": {
        "colab": {
          "base_uri": "https://localhost:8080/"
        },
        "id": "mKca0L0RSOW2",
        "outputId": "3930b092-ddb7-439d-f408-25b23a977677"
      },
      "source": [
        "# Predict the probability of each customer to convert\r\n",
        "# Here we have also taken only the second column and rounded to 2 digits after the dot\r\n",
        "model.predict(new_data_inputs_scaled)[:,1].round(2)"
      ],
      "execution_count": 51,
      "outputs": [
        {
          "output_type": "execute_result",
          "data": {
            "text/plain": [
              "array([0.05, 0.  , 0.04, 1.  , 0.01, 0.03, 0.03, 0.13, 0.02, 0.7 , 0.  ,\n",
              "       0.78, 0.95, 0.  , 0.12, 0.12, 0.87, 0.63, 0.84, 0.94, 1.  , 1.  ,\n",
              "       0.97, 0.01, 0.  , 0.99, 0.39, 0.  , 1.  , 1.  ], dtype=float32)"
            ]
          },
          "metadata": {
            "tags": []
          },
          "execution_count": 51
        }
      ]
    },
    {
      "cell_type": "code",
      "metadata": {
        "colab": {
          "base_uri": "https://localhost:8080/"
        },
        "id": "YjAhmlIZSOTs",
        "outputId": "4deb976c-ec61-4d7e-a7ed-732b406bff98"
      },
      "source": [
        "# Implement the better approach which is independent of the number of classes\r\n",
        "np.argmax(model.predict(new_data_inputs_scaled),1)"
      ],
      "execution_count": 52,
      "outputs": [
        {
          "output_type": "execute_result",
          "data": {
            "text/plain": [
              "array([0, 0, 0, 1, 0, 0, 0, 0, 0, 1, 0, 1, 1, 0, 0, 0, 1, 1, 1, 1, 1, 1,\n",
              "       1, 0, 0, 1, 0, 0, 1, 1])"
            ]
          },
          "metadata": {
            "tags": []
          },
          "execution_count": 52
        }
      ]
    },
    {
      "cell_type": "code",
      "metadata": {
        "id": "yhfheVvRSOQQ"
      },
      "source": [
        ""
      ],
      "execution_count": 52,
      "outputs": []
    },
    {
      "cell_type": "code",
      "metadata": {
        "id": "rTCIQ97pSONU"
      },
      "source": [
        ""
      ],
      "execution_count": 52,
      "outputs": []
    },
    {
      "cell_type": "code",
      "metadata": {
        "id": "XYLtmMncSOKT"
      },
      "source": [
        ""
      ],
      "execution_count": 52,
      "outputs": []
    },
    {
      "cell_type": "code",
      "metadata": {
        "id": "ytflCmhPSOHi"
      },
      "source": [
        ""
      ],
      "execution_count": 52,
      "outputs": []
    },
    {
      "cell_type": "code",
      "metadata": {
        "id": "EBb4Orp2SOE-"
      },
      "source": [
        ""
      ],
      "execution_count": 52,
      "outputs": []
    },
    {
      "cell_type": "code",
      "metadata": {
        "id": "MKaHPsVkSOCP"
      },
      "source": [
        ""
      ],
      "execution_count": 52,
      "outputs": []
    },
    {
      "cell_type": "code",
      "metadata": {
        "id": "BQyWXrMTSN_t"
      },
      "source": [
        ""
      ],
      "execution_count": 52,
      "outputs": []
    },
    {
      "cell_type": "code",
      "metadata": {
        "id": "iBAD14yYOplX"
      },
      "source": [
        ""
      ],
      "execution_count": 52,
      "outputs": []
    }
  ]
}